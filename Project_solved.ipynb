{
 "cells": [
  {
   "cell_type": "markdown",
   "id": "bf103e63-113d-4df2-b29b-41c1b321071f",
   "metadata": {},
   "source": [
    "# Lab Optimización - Programación Lineal\n",
    "\n",
    "El TL del equipo de Advanced Analytics debe asignar las tareas del siguiente sprint entre los colaboradores de su equipo para cumplir con los objetivos propuestos. \n",
    "\n",
    "Entre las tareas se encuentran las _marcadas_ las cuales pertenecen a los objetivos y deben ser terminadas durante el sprint (10 días), las tareas no marcadas no tienen que ser terminadas.\n",
    "\n",
    "En discuciones con negocio se puntuaron las tareas según prioridad e importancia, y se quiere que durante el sprint se obtenga la mayor puntuación posible.\n",
    "\n",
    "Cada tarea puede ser ejecutada por un solo colaborador del equipo, y todos los colaboradores deben de trabajar al menos 8 días, y no puede trabajar mas de 10 días.\n",
    "\n",
    "Cada día laboral consta de 8 horas.\n",
    "\n",
    "## Generación de datos\n",
    "\n",
    "Primero listamos las tareas y obtenemos el tiempo que tarda cada uno de los colaboradores en completar las mismas.\n"
   ]
  },
  {
   "cell_type": "code",
   "execution_count": 3,
   "id": "0801f8f9-9785-483d-b830-1f0726647aad",
   "metadata": {},
   "outputs": [
    {
     "name": "stdout",
     "output_type": "stream",
     "text": [
      "Wall time: 316 ms\n"
     ]
    }
   ],
   "source": [
    "%%time\n",
    "import generate_example as ge\n",
    "\n",
    "tasks = ge.generate_tasks(100)\n",
    "team_stats = ge.generate_team_stats(tasks)\n",
    "# Los tiempos expresados estan en horas."
   ]
  },
  {
   "cell_type": "markdown",
   "id": "abed33c0-ba93-43de-980b-4e416774a152",
   "metadata": {},
   "source": [
    "## Modelo de programación lineal\n",
    "\n",
    "### Datos\n",
    "\n",
    "$N = $ Cantidad de tareas.\n",
    "\n",
    "$T = $ Conjunto de todas las tareas.\n",
    "\n",
    "$O = $ Conjunto de las tareas objetivo.\n",
    "\n",
    "$C = $ Conjunto de todos los colaboradores.\n",
    "\n",
    "$P_{t} = $ Puntaje de la tarea $t$.\n",
    "\n",
    "$T_{t}^{c} = $ Tiempo que le toma al colaborador $c$ completar la tarea $t$ (horas).\n",
    "\n",
    "\n",
    "### Variables\n",
    "\n",
    "$X_{t}^{c}$ (binaria) Asignamos la tarea $t$ al colaborador $c$.\n",
    "\n",
    "$Y_{t}$ (binaria) La tarea $t$ fue completada.\n",
    "\n",
    "### Función objetivo\n",
    "\n",
    "$$Max \\sum_{t=1}^{N} P_{t}Y_{t}$$\n",
    "\n",
    "### Restricciones\n",
    "\n",
    "Tarea ejecutada por un solo colaborador:\n",
    "$$\\sum_{c \\in C} X_{t}^{c} = Y_{t}, \\forall t \\in T$$\n",
    "\n",
    "Cumplimiento de objetivos:\n",
    "$$Y_{t} = 1, \\forall t \\in O$$\n",
    "\n",
    "Horas trabajadas por cada colaborador:\n",
    "$$64 \\leq \\sum_{t = 1}^{N} T_{t}^{c}X_{t}^{c} \\leq 80, \\forall c \\in C$$\n",
    "\n",
    "\n",
    "## Solución"
   ]
  },
  {
   "cell_type": "code",
   "execution_count": 4,
   "id": "71f88bcb-3446-4560-bde2-e08565abebd7",
   "metadata": {},
   "outputs": [
    {
     "name": "stdout",
     "output_type": "stream",
     "text": [
      "Puntos completados: 411.0\n",
      "Tareas completadas: 58.0\n",
      "\t- IB: 3.0\n",
      "\t- ML: 5.0\n",
      "\t- GA: 8.0\n",
      "\t- SB: 8.0\n",
      "\t- FP: 4.0\n",
      "\t- MM: 1.0\n",
      "\t- YO: 3.0\n",
      "\t- DA: 8.0\n",
      "\t- FS: 6.0\n",
      "\t- AF: 2.0\n",
      "\t- GV: 10.0\n",
      "Wall time: 4.74 s\n"
     ]
    }
   ],
   "source": [
    "%%time\n",
    "from ortools.linear_solver import pywraplp\n",
    "solver = pywraplp.Solver.CreateSolver('SCIP')\n",
    "\n",
    "# Declaramos las variables.\n",
    "asignacion = {f\"{colaborador}_{task}\" : solver.BoolVar(f\"{colaborador}_{task}\") for colaborador in team_stats.ID for task in tasks.ID}\n",
    "ejecucion = {f\"{task}\" : solver.BoolVar(f\"{task}\") for task in tasks.ID}\n",
    "\n",
    "# Declaramos la función objetivo\n",
    "solver.Maximize(sum(task.points * ejecucion[f\"{task.ID}\"] for _,task in tasks.iterrows()))\n",
    "\n",
    "# Declaramos las restricciones\n",
    "## Tarea ejcutada por un solo colaborador\n",
    "for task in tasks.ID:\n",
    "    solver.Add(sum(asignacion[f\"{colaborador}_{task}\"] for colaborador in team_stats.ID) == ejecucion[f\"{task}\"])\n",
    "    \n",
    "## Cumplimiento de objetivos\n",
    "for _,task in tasks.iterrows():\n",
    "    if not task.objective:\n",
    "        continue\n",
    "    solver.Add(ejecucion[f\"{task.ID}\"] == 1)\n",
    "    \n",
    "# Horas trabajadas\n",
    "for _,colaborador in team_stats.iterrows():\n",
    "    solver.Add(sum(colaborador[f\"time_to_task_{task}\"] * asignacion[f\"{colaborador.ID}_{task}\"] for task in tasks.ID) >= 64)\n",
    "    solver.Add(sum(colaborador[f\"time_to_task_{task}\"] * asignacion[f\"{colaborador.ID}_{task}\"] for task in tasks.ID) <= 80)\n",
    "\n",
    "# Resolvemos\n",
    "status = solver.Solve()\n",
    "\n",
    "# Resulados\n",
    "if status == pywraplp.Solver.OPTIMAL:\n",
    "    print(f\"Puntos completados: {solver.Objective().Value()}\")\n",
    "    print(f\"Tareas completadas: {sum(var.solution_value() for var in ejecucion.values())}\")\n",
    "    for colaborador in team_stats.ID:\n",
    "        print(f\"\\t- {colaborador}: {sum(var.solution_value() for var_name, var in asignacion.items() if colaborador in var_name)}\")\n",
    "else:\n",
    "    print(\"No se encontro el optimo\")"
   ]
  },
  {
   "cell_type": "code",
   "execution_count": null,
   "id": "f1228079-c61e-489e-a325-0b7d463d331e",
   "metadata": {},
   "outputs": [],
   "source": []
  }
 ],
 "metadata": {
  "kernelspec": {
   "display_name": "Python 3 (ipykernel)",
   "language": "python",
   "name": "python3"
  },
  "language_info": {
   "codemirror_mode": {
    "name": "ipython",
    "version": 3
   },
   "file_extension": ".py",
   "mimetype": "text/x-python",
   "name": "python",
   "nbconvert_exporter": "python",
   "pygments_lexer": "ipython3",
   "version": "3.9.7"
  }
 },
 "nbformat": 4,
 "nbformat_minor": 5
}
