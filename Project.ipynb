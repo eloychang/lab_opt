{
 "cells": [
  {
   "cell_type": "markdown",
   "id": "bf103e63-113d-4df2-b29b-41c1b321071f",
   "metadata": {},
   "source": [
    "# Lab Optimización - Programación Lineal\n",
    "\n",
    "El TL del equipo de Advanced Analytics debe asignar las tareas del siguiente sprint entre los colaboradores de su equipo para cumplir con los objetivos propuestos. \n",
    "\n",
    "Entre las tareas se encuentran las _marcadas_ las cuales pertenecen a los objetivos y deben ser terminadas durante el sprint (10 días), las tareas no marcadas no tienen que ser terminadas.\n",
    "\n",
    "En discuciones con negocio se puntuaron las tareas según prioridad e importancia, y se quiere que durante el sprint se obtenga la mayor puntuación posible.\n",
    "\n",
    "Cada tarea puede ser ejecutada por un solo colaborador del equipo, y todos los colaboradores deben de trabajar al menos 8 días, y no puede trabajar mas de 10 días.\n",
    "\n",
    "Cada día laboral consta de 8 horas.\n",
    "\n",
    "## Generación de datos\n",
    "\n",
    "Primero listamos las tareas y obtenemos el tiempo que tarda cada uno de los colaboradores en completar las mismas.\n"
   ]
  },
  {
   "cell_type": "code",
   "execution_count": null,
   "id": "0801f8f9-9785-483d-b830-1f0726647aad",
   "metadata": {},
   "outputs": [],
   "source": [
    "%%time\n",
    "import generate_example as ge\n",
    "\n",
    "tasks = ge.generate_tasks(100)\n",
    "team_stats = ge.generate_team_stats(tasks)\n",
    "# Los tiempos expresados estan en horas."
   ]
  },
  {
   "cell_type": "markdown",
   "id": "abed33c0-ba93-43de-980b-4e416774a152",
   "metadata": {},
   "source": [
    "## Modelo de programación lineal\n",
    "\n",
    "### Datos\n",
    "\n",
    "$N = $ Cantidad de tareas.\n",
    "\n",
    "$T = $ Conjunto de todas las tareas.\n",
    "\n",
    "$O = $ Conjunto de las tareas objetivo.\n",
    "\n",
    "$C = $ Conjunto de todos los colaboradores.\n",
    "\n",
    "$P_{t} = $ Puntaje de la tarea $t$.\n",
    "\n",
    "$T_{t}^{c} = $ Tiempo que le toma al colaborador $c$ completar la tarea $t$ (horas).\n",
    "### Variables\n",
    "\n",
    "$X_{i}$ bla bla\n",
    "\n",
    "### Función objetivo\n",
    "\n",
    "$$foo \\sum_{i=0}^{N} X_{i}$$\n",
    "\n",
    "### Restricciones\n",
    "\n",
    "Restricción 1:\n",
    "$$\\sum_{i=0}^{n} \\leq 100$$\n",
    "\n",
    "## Solución"
   ]
  },
  {
   "cell_type": "code",
   "execution_count": null,
   "id": "71f88bcb-3446-4560-bde2-e08565abebd7",
   "metadata": {},
   "outputs": [],
   "source": [
    "%%time\n",
    "from ortools.linear_solver import pywraplp\n",
    "solver = pywraplp.Solver.CreateSolver('SCIP')\n",
    "\n",
    "# Declaramos las variables.\n",
    "\n",
    "\n",
    "# Declaramos la función objetivo\n",
    "\n",
    "\n",
    "# Declaramos las restricciones\n",
    "\n",
    "\n",
    "# Resolvemos\n",
    "status = solver.Solve()\n",
    "\n",
    "# Resulados\n",
    "if status == pywraplp.Solver.OPTIMAL:\n",
    "    print(f\"Función objetivo: {solver.Objective().Value()}\")\n",
    "else:\n",
    "    print(\"No se encontro el optimo\")"
   ]
  }
 ],
 "metadata": {
  "kernelspec": {
   "display_name": "Python 3 (ipykernel)",
   "language": "python",
   "name": "python3"
  },
  "language_info": {
   "codemirror_mode": {
    "name": "ipython",
    "version": 3
   },
   "file_extension": ".py",
   "mimetype": "text/x-python",
   "name": "python",
   "nbconvert_exporter": "python",
   "pygments_lexer": "ipython3",
   "version": "3.9.7"
  }
 },
 "nbformat": 4,
 "nbformat_minor": 5
}
